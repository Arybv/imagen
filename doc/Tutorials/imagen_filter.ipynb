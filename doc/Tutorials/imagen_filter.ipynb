{
 "cells": [
  {
   "cell_type": "markdown",
   "metadata": {},
   "source": [
    "The [ImaGen](http://ioam.github.io/imagen) library provides composable, declarative, parameterized objects for rendering streams of bitmap images from geometric primitives or existing images.  ImaGen objects can return a [HoloViews](http://holoviews.org) object that will display itself automatically, and so it is simple to use ImaGen together with HoloViews to explore image generation and manipulation.  For instance, a simple image-filtering application can be set up very easily:"
   ]
  },
  {
   "cell_type": "code",
   "execution_count": null,
   "metadata": {},
   "outputs": [],
   "source": [
    "import numpy as np\n",
    "import holoviews as hv\n",
    "import imagen as ig\n",
    "import imagen.transferfn as tf\n",
    "\n",
    "from imagen.image import FileImage\n",
    "from imagen.transferfn.sheet_tf import Convolve\n",
    "\n",
    "hv.notebook_extension()\n",
    "\n",
    "%opts Image (cmap=\"gray\") {+axiswise}\n",
    "\n",
    "FileImage.filename = \"../../../imagen/doc/images/ellen_arthur.pgm\"\n",
    "\n",
    "kdims = [hv.Dimension('size',                   range=(0.1, 2)),\n",
    "         hv.Dimension('positive_size',          range=(0.1, 2)),\n",
    "         hv.Dimension('negative_size',          range=(0.3, 4)),\n",
    "         hv.Dimension('positive_aspect_ratio',  range=(1.0,10)),\n",
    "         hv.Dimension('negative_aspect_ratio',  range=(1.0,10))]\n",
    "\n",
    "def filtered_images(size,positive_size,negative_size,positive_aspect_ratio,negative_aspect_ratio):\n",
    "    convolver = Convolve(kernel_pattern=ig.DifferenceOfGaussians(**locals()))\n",
    "    return FileImage()[:].relabel(\"Original\") + \\\n",
    "           convolver.kernel_pattern[:].relabel(\"Kernel\") + \\\n",
    "           FileImage(output_fns=[convolver])[:].relabel(\"Filtered\")\n",
    "\n",
    "hv.DynamicMap(filtered_images, kdims=kdims)"
   ]
  }
 ],
 "metadata": {
  "anaconda-cloud": {},
  "kernelspec": {
   "display_name": "Python [default]",
   "language": "python",
   "name": "python2"
  },
  "language_info": {
   "codemirror_mode": {
    "name": "ipython",
    "version": 2
   },
   "file_extension": ".py",
   "mimetype": "text/x-python",
   "name": "python",
   "nbconvert_exporter": "python",
   "pygments_lexer": "ipython2",
   "version": "2.7.13"
  }
 },
 "nbformat": 4,
 "nbformat_minor": 1
}
