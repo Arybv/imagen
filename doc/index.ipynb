{
 "metadata": {
  "name": "",
  "signature": "sha256:257fffb97df01ac25414e869b21404092ee373917fc636ec1565c0da0cc80181"
 },
 "nbformat": 3,
 "nbformat_minor": 0,
 "worksheets": [
  {
   "cells": [
    {
     "cell_type": "code",
     "collapsed": false,
     "input": [
      "gaussian=imagen.Gaussian(xdensity=60,ydensity=60,size=0.3,aspect_ratio=1.0)[:]\n",
      "gaussian"
     ],
     "language": "python",
     "metadata": {},
     "outputs": []
    },
    {
     "cell_type": "code",
     "collapsed": false,
     "input": [
      "%%opts Image.Pattern (cmap='jet')\n",
      "gaussian"
     ],
     "language": "python",
     "metadata": {},
     "outputs": []
    }
   ],
   "metadata": {}
  }
 ]
}