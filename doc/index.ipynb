{
 "metadata": {
  "name": "",
  "signature": "sha256:ae64c0ef2b2ccc2a90126eb48e6819d424624f6c54478bc31b5146b485575e58"
 },
 "nbformat": 3,
 "nbformat_minor": 0,
 "worksheets": [
  {
   "cells": [
    {
     "cell_type": "code",
     "collapsed": false,
     "input": [
      "import imagen\n",
      "import holoviews\n",
      "%load_ext holoviews.ipython"
     ],
     "language": "python",
     "metadata": {},
     "outputs": []
    },
    {
     "cell_type": "code",
     "collapsed": false,
     "input": [
      "gaussian=imagen.Gaussian(xdensity=60,ydensity=60,size=0.3,aspect_ratio=1.0)[:]\n",
      "gaussian"
     ],
     "language": "python",
     "metadata": {},
     "outputs": []
    },
    {
     "cell_type": "code",
     "collapsed": false,
     "input": [
      "%%opts Image.Pattern (cmap='jet')\n",
      "gaussian"
     ],
     "language": "python",
     "metadata": {},
     "outputs": []
    }
   ],
   "metadata": {}
  }
 ]
}